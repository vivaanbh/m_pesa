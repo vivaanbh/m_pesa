{
 "cells": [
  {
   "cell_type": "code",
   "execution_count": 1,
   "id": "0bf7be8f",
   "metadata": {},
   "outputs": [],
   "source": [
    "#loading libraries\n",
    "import numpy as np\n",
    "import pandas as pd\n",
    "import matplotlib.pyplot as plt"
   ]
  },
  {
   "cell_type": "markdown",
   "id": "4068890a",
   "metadata": {},
   "source": [
    "## Data"
   ]
  },
  {
   "cell_type": "code",
   "execution_count": 2,
   "id": "4acb459e",
   "metadata": {
    "scrolled": true
   },
   "outputs": [
    {
     "data": {
      "text/html": [
       "<div>\n",
       "<style scoped>\n",
       "    .dataframe tbody tr th:only-of-type {\n",
       "        vertical-align: middle;\n",
       "    }\n",
       "\n",
       "    .dataframe tbody tr th {\n",
       "        vertical-align: top;\n",
       "    }\n",
       "\n",
       "    .dataframe thead th {\n",
       "        text-align: right;\n",
       "    }\n",
       "</style>\n",
       "<table border=\"1\" class=\"dataframe\">\n",
       "  <thead>\n",
       "    <tr style=\"text-align: right;\">\n",
       "      <th></th>\n",
       "      <th>hhid</th>\n",
       "      <th>cellphone</th>\n",
       "      <th>wealth</th>\n",
       "      <th>size</th>\n",
       "      <th>education_years</th>\n",
       "      <th>education_other</th>\n",
       "      <th>bank_acct</th>\n",
       "      <th>mattress</th>\n",
       "      <th>sacco</th>\n",
       "      <th>merry</th>\n",
       "      <th>...</th>\n",
       "      <th>d1</th>\n",
       "      <th>d2</th>\n",
       "      <th>d3</th>\n",
       "      <th>d4</th>\n",
       "      <th>d5</th>\n",
       "      <th>FALSE</th>\n",
       "      <th>lmean_recddist</th>\n",
       "      <th>ldistance</th>\n",
       "      <th>urban</th>\n",
       "      <th>mweight</th>\n",
       "    </tr>\n",
       "  </thead>\n",
       "  <tbody>\n",
       "    <tr>\n",
       "      <th>0</th>\n",
       "      <td>1649034</td>\n",
       "      <td>1.0</td>\n",
       "      <td>202600.0</td>\n",
       "      <td>1.0</td>\n",
       "      <td>3.0</td>\n",
       "      <td>0.0</td>\n",
       "      <td>no</td>\n",
       "      <td>no</td>\n",
       "      <td>no</td>\n",
       "      <td>no</td>\n",
       "      <td>...</td>\n",
       "      <td>0.0</td>\n",
       "      <td>0.0</td>\n",
       "      <td>0.0</td>\n",
       "      <td>0.0</td>\n",
       "      <td>1.0</td>\n",
       "      <td>0.0</td>\n",
       "      <td>NaN</td>\n",
       "      <td>NaN</td>\n",
       "      <td>1</td>\n",
       "      <td>4.305487</td>\n",
       "    </tr>\n",
       "    <tr>\n",
       "      <th>1</th>\n",
       "      <td>1649056</td>\n",
       "      <td>0.0</td>\n",
       "      <td>13300.0</td>\n",
       "      <td>5.0</td>\n",
       "      <td>8.0</td>\n",
       "      <td>0.0</td>\n",
       "      <td>no</td>\n",
       "      <td>yes</td>\n",
       "      <td>no</td>\n",
       "      <td>yes</td>\n",
       "      <td>...</td>\n",
       "      <td>0.4</td>\n",
       "      <td>0.2</td>\n",
       "      <td>0.2</td>\n",
       "      <td>0.2</td>\n",
       "      <td>0.0</td>\n",
       "      <td>NaN</td>\n",
       "      <td>NaN</td>\n",
       "      <td>NaN</td>\n",
       "      <td>1</td>\n",
       "      <td>4.006307</td>\n",
       "    </tr>\n",
       "    <tr>\n",
       "      <th>2</th>\n",
       "      <td>1649063</td>\n",
       "      <td>1.0</td>\n",
       "      <td>149700.0</td>\n",
       "      <td>5.0</td>\n",
       "      <td>0.0</td>\n",
       "      <td>1.0</td>\n",
       "      <td>no</td>\n",
       "      <td>no</td>\n",
       "      <td>yes</td>\n",
       "      <td>yes</td>\n",
       "      <td>...</td>\n",
       "      <td>0.6</td>\n",
       "      <td>0.0</td>\n",
       "      <td>0.2</td>\n",
       "      <td>0.2</td>\n",
       "      <td>0.0</td>\n",
       "      <td>NaN</td>\n",
       "      <td>NaN</td>\n",
       "      <td>NaN</td>\n",
       "      <td>1</td>\n",
       "      <td>3.904419</td>\n",
       "    </tr>\n",
       "    <tr>\n",
       "      <th>3</th>\n",
       "      <td>1649041</td>\n",
       "      <td>1.0</td>\n",
       "      <td>20000.0</td>\n",
       "      <td>5.0</td>\n",
       "      <td>12.0</td>\n",
       "      <td>0.0</td>\n",
       "      <td>no</td>\n",
       "      <td>yes</td>\n",
       "      <td>no</td>\n",
       "      <td>no</td>\n",
       "      <td>...</td>\n",
       "      <td>0.4</td>\n",
       "      <td>0.2</td>\n",
       "      <td>0.2</td>\n",
       "      <td>0.2</td>\n",
       "      <td>0.0</td>\n",
       "      <td>NaN</td>\n",
       "      <td>5.913503</td>\n",
       "      <td>5.372935</td>\n",
       "      <td>1</td>\n",
       "      <td>4.054456</td>\n",
       "    </tr>\n",
       "    <tr>\n",
       "      <th>4</th>\n",
       "      <td>1649012</td>\n",
       "      <td>1.0</td>\n",
       "      <td>31000.0</td>\n",
       "      <td>5.0</td>\n",
       "      <td>0.0</td>\n",
       "      <td>0.0</td>\n",
       "      <td>yes</td>\n",
       "      <td>yes</td>\n",
       "      <td>no</td>\n",
       "      <td>no</td>\n",
       "      <td>...</td>\n",
       "      <td>0.0</td>\n",
       "      <td>0.0</td>\n",
       "      <td>0.2</td>\n",
       "      <td>0.4</td>\n",
       "      <td>0.2</td>\n",
       "      <td>1.0</td>\n",
       "      <td>NaN</td>\n",
       "      <td>NaN</td>\n",
       "      <td>1</td>\n",
       "      <td>3.706399</td>\n",
       "    </tr>\n",
       "  </tbody>\n",
       "</table>\n",
       "<p>5 rows × 112 columns</p>\n",
       "</div>"
      ],
      "text/plain": [
       "      hhid  cellphone    wealth  size  education_years  education_other  \\\n",
       "0  1649034        1.0  202600.0   1.0              3.0              0.0   \n",
       "1  1649056        0.0   13300.0   5.0              8.0              0.0   \n",
       "2  1649063        1.0  149700.0   5.0              0.0              1.0   \n",
       "3  1649041        1.0   20000.0   5.0             12.0              0.0   \n",
       "4  1649012        1.0   31000.0   5.0              0.0              0.0   \n",
       "\n",
       "  bank_acct mattress sacco merry  ...   d1   d2   d3   d4   d5  FALSE  \\\n",
       "0        no       no    no    no  ...  0.0  0.0  0.0  0.0  1.0    0.0   \n",
       "1        no      yes    no   yes  ...  0.4  0.2  0.2  0.2  0.0    NaN   \n",
       "2        no       no   yes   yes  ...  0.6  0.0  0.2  0.2  0.0    NaN   \n",
       "3        no      yes    no    no  ...  0.4  0.2  0.2  0.2  0.0    NaN   \n",
       "4       yes      yes    no    no  ...  0.0  0.0  0.2  0.4  0.2    1.0   \n",
       "\n",
       "   lmean_recddist  ldistance  urban   mweight  \n",
       "0             NaN        NaN      1  4.305487  \n",
       "1             NaN        NaN      1  4.006307  \n",
       "2             NaN        NaN      1  3.904419  \n",
       "3        5.913503   5.372935      1  4.054456  \n",
       "4             NaN        NaN      1  3.706399  \n",
       "\n",
       "[5 rows x 112 columns]"
      ]
     },
     "execution_count": 2,
     "metadata": {},
     "output_type": "execute_result"
    }
   ],
   "source": [
    "money = pd.read_csv(\"~\\Downloads\\mobile_money.csv\")\n",
    "money.head()"
   ]
  },
  {
   "cell_type": "code",
   "execution_count": 3,
   "id": "5c11a8f4",
   "metadata": {
    "scrolled": false
   },
   "outputs": [
    {
     "name": "stdout",
     "output_type": "stream",
     "text": [
      "count     2282\n",
      "unique       2\n",
      "top        yes\n",
      "freq      1676\n",
      "Name: mpesa_user, dtype: object\n",
      "yes    0.734443\n",
      "no     0.265557\n",
      "Name: mpesa_user, dtype: float64\n"
     ]
    }
   ],
   "source": [
    "print(money['mpesa_user'].describe(include='all'))\n",
    "print(money['mpesa_user'].value_counts(normalize=True))"
   ]
  },
  {
   "cell_type": "markdown",
   "id": "237c64b5",
   "metadata": {},
   "source": [
    "**We can see that 1676 people in the data are M-pesa users, which equates to 73.44% of the data.**"
   ]
  },
  {
   "cell_type": "code",
   "execution_count": 4,
   "id": "c09a762a",
   "metadata": {},
   "outputs": [],
   "source": [
    "#seperating categorical and numeric variables\n",
    "a = ['totexppc', 'wkexppc', 'wealth', 'size', 'education_years']\n",
    "b = ['cellphone', 'neg', 'pos', 'ag', 'sick', 'bank_acct', 'mattress', 'sendd', 'recdd', \n",
    "      'sacco', 'merry', 'occ_farmer', 'occ_public', 'occ_prof', 'occ_help', \n",
    "      'occ_bus', 'occ_sales', 'occ_ind', 'occ_other', 'occ_ue'] "
   ]
  },
  {
   "cell_type": "code",
   "execution_count": 5,
   "id": "d575c290",
   "metadata": {},
   "outputs": [],
   "source": [
    "money = money.dropna(subset=['totexppc', 'wkexppc', 'wealth', 'size', 'education_years',\n",
    "                     'cellphone', 'neg', 'pos', 'ag', 'sick', 'bank_acct', 'mattress', 'sendd', 'recdd', \n",
    "                     'sacco', 'merry', 'occ_farmer', 'occ_public', 'occ_prof', 'occ_help', \n",
    "                     'occ_bus', 'occ_sales', 'occ_ind', 'occ_other', 'occ_ue'])"
   ]
  },
  {
   "cell_type": "code",
   "execution_count": 6,
   "id": "e3532cf3",
   "metadata": {
    "scrolled": true
   },
   "outputs": [
    {
     "data": {
      "text/plain": [
       "array([False])"
      ]
     },
     "execution_count": 6,
     "metadata": {},
     "output_type": "execute_result"
    }
   ],
   "source": [
    "#checking for NA values\n",
    "money_check = money.isna()\n",
    "check = money_check[['totexppc', 'wkexppc', 'wealth', 'size', 'education_years',\n",
    "                     'cellphone', 'neg', 'pos', 'ag', 'sick', 'bank_acct', 'mattress', 'sendd', 'recdd', \n",
    "                     'sacco', 'merry', 'occ_farmer', 'occ_public', 'occ_prof', 'occ_help', \n",
    "                     'occ_bus', 'occ_sales', 'occ_ind', 'occ_other', 'occ_ue']].any(True)\n",
    "check.unique()"
   ]
  },
  {
   "cell_type": "code",
   "execution_count": 7,
   "id": "1ca55b88",
   "metadata": {},
   "outputs": [
    {
     "data": {
      "text/plain": [
       "['cellphone', 'bank_acct', 'mattress', 'sacco', 'merry']"
      ]
     },
     "execution_count": 7,
     "metadata": {},
     "output_type": "execute_result"
    }
   ],
   "source": [
    "c = []\n",
    "i = 0\n",
    "for i in range(len(b)):\n",
    "    if money[b[i]].dtypes != 'int64':\n",
    "        c.append(b[i])\n",
    "        i=i+1\n",
    "    else:\n",
    "        i=i+1\n",
    "c"
   ]
  },
  {
   "cell_type": "code",
   "execution_count": 8,
   "id": "4196193a",
   "metadata": {},
   "outputs": [],
   "source": [
    "money['cellphone'] = money['cellphone'].astype(int)"
   ]
  },
  {
   "cell_type": "code",
   "execution_count": 9,
   "id": "fe1b4942",
   "metadata": {},
   "outputs": [],
   "source": [
    "money['bank_acct'] = money['bank_acct'].map({'yes': 1, 'no': 0, '0': 0})\n",
    "money['mattress'] = money['mattress'].map({'yes': 1, 'no': 0, '0': 0})\n",
    "money['sacco'] = money['sacco'].map({'yes': 1, 'no': 0, '0': 0})\n",
    "money['merry'] = money['merry'].map({'yes': 1, 'no': 0, '0': 0})"
   ]
  },
  {
   "cell_type": "code",
   "execution_count": 10,
   "id": "8e7e9058",
   "metadata": {},
   "outputs": [],
   "source": [
    "mpesa = money.groupby('mpesa_user')"
   ]
  },
  {
   "cell_type": "code",
   "execution_count": 11,
   "id": "7a31c971",
   "metadata": {},
   "outputs": [],
   "source": [
    "a = ['totexppc', 'wkexppc', 'wealth', 'size', 'education_years']\n",
    "      \n",
    "b = ['cellphone', 'neg', 'pos', 'ag', 'sick', 'bank_acct', 'mattress', 'sendd', 'recdd', \n",
    "      'sacco', 'merry', 'occ_farmer', 'occ_public', 'occ_prof', 'occ_help', \n",
    "      'occ_bus', 'occ_sales', 'occ_ind', 'occ_other', 'occ_ue']"
   ]
  },
  {
   "cell_type": "code",
   "execution_count": 12,
   "id": "81931123",
   "metadata": {
    "scrolled": true
   },
   "outputs": [],
   "source": [
    "des = mpesa[a].describe()\n",
    "des = des.astype(int)"
   ]
  },
  {
   "cell_type": "code",
   "execution_count": 13,
   "id": "070196b3",
   "metadata": {
    "scrolled": true
   },
   "outputs": [
    {
     "data": {
      "text/html": [
       "<div>\n",
       "<style scoped>\n",
       "    .dataframe tbody tr th:only-of-type {\n",
       "        vertical-align: middle;\n",
       "    }\n",
       "\n",
       "    .dataframe tbody tr th {\n",
       "        vertical-align: top;\n",
       "    }\n",
       "\n",
       "    .dataframe thead th {\n",
       "        text-align: right;\n",
       "    }\n",
       "</style>\n",
       "<table border=\"1\" class=\"dataframe\">\n",
       "  <thead>\n",
       "    <tr style=\"text-align: right;\">\n",
       "      <th></th>\n",
       "      <th>mpesa_user</th>\n",
       "      <th>no</th>\n",
       "      <th>yes</th>\n",
       "    </tr>\n",
       "  </thead>\n",
       "  <tbody>\n",
       "    <tr>\n",
       "      <th rowspan=\"8\" valign=\"top\">totexppc</th>\n",
       "      <th>count</th>\n",
       "      <td>594</td>\n",
       "      <td>1667</td>\n",
       "    </tr>\n",
       "    <tr>\n",
       "      <th>mean</th>\n",
       "      <td>54237</td>\n",
       "      <td>84476</td>\n",
       "    </tr>\n",
       "    <tr>\n",
       "      <th>std</th>\n",
       "      <td>93427</td>\n",
       "      <td>102949</td>\n",
       "    </tr>\n",
       "    <tr>\n",
       "      <th>min</th>\n",
       "      <td>480</td>\n",
       "      <td>2306</td>\n",
       "    </tr>\n",
       "    <tr>\n",
       "      <th>25%</th>\n",
       "      <td>18554</td>\n",
       "      <td>34411</td>\n",
       "    </tr>\n",
       "    <tr>\n",
       "      <th>50%</th>\n",
       "      <td>31136</td>\n",
       "      <td>57204</td>\n",
       "    </tr>\n",
       "    <tr>\n",
       "      <th>75%</th>\n",
       "      <td>53756</td>\n",
       "      <td>98570</td>\n",
       "    </tr>\n",
       "    <tr>\n",
       "      <th>max</th>\n",
       "      <td>1576484</td>\n",
       "      <td>1870776</td>\n",
       "    </tr>\n",
       "    <tr>\n",
       "      <th rowspan=\"8\" valign=\"top\">wkexppc</th>\n",
       "      <th>count</th>\n",
       "      <td>594</td>\n",
       "      <td>1667</td>\n",
       "    </tr>\n",
       "    <tr>\n",
       "      <th>mean</th>\n",
       "      <td>28578</td>\n",
       "      <td>35493</td>\n",
       "    </tr>\n",
       "    <tr>\n",
       "      <th>std</th>\n",
       "      <td>28099</td>\n",
       "      <td>27961</td>\n",
       "    </tr>\n",
       "    <tr>\n",
       "      <th>min</th>\n",
       "      <td>0</td>\n",
       "      <td>1397</td>\n",
       "    </tr>\n",
       "    <tr>\n",
       "      <th>25%</th>\n",
       "      <td>13000</td>\n",
       "      <td>18412</td>\n",
       "    </tr>\n",
       "    <tr>\n",
       "      <th>50%</th>\n",
       "      <td>20297</td>\n",
       "      <td>27726</td>\n",
       "    </tr>\n",
       "    <tr>\n",
       "      <th>75%</th>\n",
       "      <td>32844</td>\n",
       "      <td>42734</td>\n",
       "    </tr>\n",
       "    <tr>\n",
       "      <th>max</th>\n",
       "      <td>237484</td>\n",
       "      <td>263380</td>\n",
       "    </tr>\n",
       "    <tr>\n",
       "      <th rowspan=\"8\" valign=\"top\">wealth</th>\n",
       "      <th>count</th>\n",
       "      <td>594</td>\n",
       "      <td>1667</td>\n",
       "    </tr>\n",
       "    <tr>\n",
       "      <th>mean</th>\n",
       "      <td>76478</td>\n",
       "      <td>214923</td>\n",
       "    </tr>\n",
       "    <tr>\n",
       "      <th>std</th>\n",
       "      <td>297089</td>\n",
       "      <td>1460980</td>\n",
       "    </tr>\n",
       "    <tr>\n",
       "      <th>min</th>\n",
       "      <td>0</td>\n",
       "      <td>0</td>\n",
       "    </tr>\n",
       "    <tr>\n",
       "      <th>25%</th>\n",
       "      <td>7062</td>\n",
       "      <td>24950</td>\n",
       "    </tr>\n",
       "    <tr>\n",
       "      <th>50%</th>\n",
       "      <td>20250</td>\n",
       "      <td>54000</td>\n",
       "    </tr>\n",
       "    <tr>\n",
       "      <th>75%</th>\n",
       "      <td>50225</td>\n",
       "      <td>112600</td>\n",
       "    </tr>\n",
       "    <tr>\n",
       "      <th>max</th>\n",
       "      <td>4753200</td>\n",
       "      <td>47200000</td>\n",
       "    </tr>\n",
       "    <tr>\n",
       "      <th rowspan=\"8\" valign=\"top\">size</th>\n",
       "      <th>count</th>\n",
       "      <td>594</td>\n",
       "      <td>1667</td>\n",
       "    </tr>\n",
       "    <tr>\n",
       "      <th>mean</th>\n",
       "      <td>4</td>\n",
       "      <td>4</td>\n",
       "    </tr>\n",
       "    <tr>\n",
       "      <th>std</th>\n",
       "      <td>2</td>\n",
       "      <td>2</td>\n",
       "    </tr>\n",
       "    <tr>\n",
       "      <th>min</th>\n",
       "      <td>1</td>\n",
       "      <td>1</td>\n",
       "    </tr>\n",
       "    <tr>\n",
       "      <th>25%</th>\n",
       "      <td>2</td>\n",
       "      <td>3</td>\n",
       "    </tr>\n",
       "    <tr>\n",
       "      <th>50%</th>\n",
       "      <td>4</td>\n",
       "      <td>4</td>\n",
       "    </tr>\n",
       "    <tr>\n",
       "      <th>75%</th>\n",
       "      <td>6</td>\n",
       "      <td>6</td>\n",
       "    </tr>\n",
       "    <tr>\n",
       "      <th>max</th>\n",
       "      <td>12</td>\n",
       "      <td>13</td>\n",
       "    </tr>\n",
       "    <tr>\n",
       "      <th rowspan=\"8\" valign=\"top\">education_years</th>\n",
       "      <th>count</th>\n",
       "      <td>594</td>\n",
       "      <td>1667</td>\n",
       "    </tr>\n",
       "    <tr>\n",
       "      <th>mean</th>\n",
       "      <td>6</td>\n",
       "      <td>8</td>\n",
       "    </tr>\n",
       "    <tr>\n",
       "      <th>std</th>\n",
       "      <td>4</td>\n",
       "      <td>5</td>\n",
       "    </tr>\n",
       "    <tr>\n",
       "      <th>min</th>\n",
       "      <td>0</td>\n",
       "      <td>0</td>\n",
       "    </tr>\n",
       "    <tr>\n",
       "      <th>25%</th>\n",
       "      <td>2</td>\n",
       "      <td>5</td>\n",
       "    </tr>\n",
       "    <tr>\n",
       "      <th>50%</th>\n",
       "      <td>7</td>\n",
       "      <td>9</td>\n",
       "    </tr>\n",
       "    <tr>\n",
       "      <th>75%</th>\n",
       "      <td>10</td>\n",
       "      <td>12</td>\n",
       "    </tr>\n",
       "    <tr>\n",
       "      <th>max</th>\n",
       "      <td>19</td>\n",
       "      <td>19</td>\n",
       "    </tr>\n",
       "  </tbody>\n",
       "</table>\n",
       "</div>"
      ],
      "text/plain": [
       "mpesa_user                  no       yes\n",
       "totexppc        count      594      1667\n",
       "                mean     54237     84476\n",
       "                std      93427    102949\n",
       "                min        480      2306\n",
       "                25%      18554     34411\n",
       "                50%      31136     57204\n",
       "                75%      53756     98570\n",
       "                max    1576484   1870776\n",
       "wkexppc         count      594      1667\n",
       "                mean     28578     35493\n",
       "                std      28099     27961\n",
       "                min          0      1397\n",
       "                25%      13000     18412\n",
       "                50%      20297     27726\n",
       "                75%      32844     42734\n",
       "                max     237484    263380\n",
       "wealth          count      594      1667\n",
       "                mean     76478    214923\n",
       "                std     297089   1460980\n",
       "                min          0         0\n",
       "                25%       7062     24950\n",
       "                50%      20250     54000\n",
       "                75%      50225    112600\n",
       "                max    4753200  47200000\n",
       "size            count      594      1667\n",
       "                mean         4         4\n",
       "                std          2         2\n",
       "                min          1         1\n",
       "                25%          2         3\n",
       "                50%          4         4\n",
       "                75%          6         6\n",
       "                max         12        13\n",
       "education_years count      594      1667\n",
       "                mean         6         8\n",
       "                std          4         5\n",
       "                min          0         0\n",
       "                25%          2         5\n",
       "                50%          7         9\n",
       "                75%         10        12\n",
       "                max         19        19"
      ]
     },
     "execution_count": 13,
     "metadata": {},
     "output_type": "execute_result"
    }
   ],
   "source": [
    "des.T"
   ]
  },
  {
   "cell_type": "markdown",
   "id": "e2ccdbfa",
   "metadata": {},
   "source": [
    "**The table above shows that average and median M-pesa users, were wealthier, and had higher consumption levels. The median M-pesa user is wealthier and consumes more than 75% of non M-pesa users. There are no observable differences in household size, but the average and media M-pesa user appears to be more educated than than the same non M-pesa user.**"
   ]
  },
  {
   "cell_type": "code",
   "execution_count": 14,
   "id": "d115e48a",
   "metadata": {},
   "outputs": [],
   "source": [
    "count = mpesa[b].count().T\n",
    "avg = mpesa[b].mean().T"
   ]
  },
  {
   "cell_type": "code",
   "execution_count": 15,
   "id": "bb0ad167",
   "metadata": {
    "scrolled": true
   },
   "outputs": [
    {
     "data": {
      "text/html": [
       "<div>\n",
       "<style scoped>\n",
       "    .dataframe tbody tr th:only-of-type {\n",
       "        vertical-align: middle;\n",
       "    }\n",
       "\n",
       "    .dataframe tbody tr th {\n",
       "        vertical-align: top;\n",
       "    }\n",
       "\n",
       "    .dataframe thead th {\n",
       "        text-align: right;\n",
       "    }\n",
       "</style>\n",
       "<table border=\"1\" class=\"dataframe\">\n",
       "  <thead>\n",
       "    <tr style=\"text-align: right;\">\n",
       "      <th>mpesa_user</th>\n",
       "      <th>no</th>\n",
       "      <th>yes</th>\n",
       "      <th>no</th>\n",
       "      <th>yes</th>\n",
       "    </tr>\n",
       "  </thead>\n",
       "  <tbody>\n",
       "    <tr>\n",
       "      <th>cellphone</th>\n",
       "      <td>594</td>\n",
       "      <td>1667</td>\n",
       "      <td>0.427609</td>\n",
       "      <td>0.922615</td>\n",
       "    </tr>\n",
       "    <tr>\n",
       "      <th>neg</th>\n",
       "      <td>594</td>\n",
       "      <td>1667</td>\n",
       "      <td>0.540404</td>\n",
       "      <td>0.529694</td>\n",
       "    </tr>\n",
       "    <tr>\n",
       "      <th>pos</th>\n",
       "      <td>594</td>\n",
       "      <td>1667</td>\n",
       "      <td>0.048822</td>\n",
       "      <td>0.072585</td>\n",
       "    </tr>\n",
       "    <tr>\n",
       "      <th>ag</th>\n",
       "      <td>594</td>\n",
       "      <td>1667</td>\n",
       "      <td>0.139731</td>\n",
       "      <td>0.108578</td>\n",
       "    </tr>\n",
       "    <tr>\n",
       "      <th>sick</th>\n",
       "      <td>594</td>\n",
       "      <td>1667</td>\n",
       "      <td>0.378788</td>\n",
       "      <td>0.389922</td>\n",
       "    </tr>\n",
       "    <tr>\n",
       "      <th>bank_acct</th>\n",
       "      <td>594</td>\n",
       "      <td>1667</td>\n",
       "      <td>0.272727</td>\n",
       "      <td>0.712657</td>\n",
       "    </tr>\n",
       "    <tr>\n",
       "      <th>mattress</th>\n",
       "      <td>594</td>\n",
       "      <td>1667</td>\n",
       "      <td>0.835017</td>\n",
       "      <td>0.686863</td>\n",
       "    </tr>\n",
       "    <tr>\n",
       "      <th>sendd</th>\n",
       "      <td>594</td>\n",
       "      <td>1667</td>\n",
       "      <td>0.198653</td>\n",
       "      <td>0.615477</td>\n",
       "    </tr>\n",
       "    <tr>\n",
       "      <th>recdd</th>\n",
       "      <td>594</td>\n",
       "      <td>1667</td>\n",
       "      <td>0.173401</td>\n",
       "      <td>0.518296</td>\n",
       "    </tr>\n",
       "    <tr>\n",
       "      <th>sacco</th>\n",
       "      <td>594</td>\n",
       "      <td>1667</td>\n",
       "      <td>0.112795</td>\n",
       "      <td>0.226755</td>\n",
       "    </tr>\n",
       "    <tr>\n",
       "      <th>merry</th>\n",
       "      <td>594</td>\n",
       "      <td>1667</td>\n",
       "      <td>0.400673</td>\n",
       "      <td>0.489502</td>\n",
       "    </tr>\n",
       "    <tr>\n",
       "      <th>occ_farmer</th>\n",
       "      <td>594</td>\n",
       "      <td>1667</td>\n",
       "      <td>0.367003</td>\n",
       "      <td>0.136773</td>\n",
       "    </tr>\n",
       "    <tr>\n",
       "      <th>occ_public</th>\n",
       "      <td>594</td>\n",
       "      <td>1667</td>\n",
       "      <td>0.005051</td>\n",
       "      <td>0.051590</td>\n",
       "    </tr>\n",
       "    <tr>\n",
       "      <th>occ_prof</th>\n",
       "      <td>594</td>\n",
       "      <td>1667</td>\n",
       "      <td>0.132997</td>\n",
       "      <td>0.240552</td>\n",
       "    </tr>\n",
       "    <tr>\n",
       "      <th>occ_help</th>\n",
       "      <td>594</td>\n",
       "      <td>1667</td>\n",
       "      <td>0.085859</td>\n",
       "      <td>0.144571</td>\n",
       "    </tr>\n",
       "    <tr>\n",
       "      <th>occ_bus</th>\n",
       "      <td>594</td>\n",
       "      <td>1667</td>\n",
       "      <td>0.171717</td>\n",
       "      <td>0.162567</td>\n",
       "    </tr>\n",
       "    <tr>\n",
       "      <th>occ_sales</th>\n",
       "      <td>594</td>\n",
       "      <td>1667</td>\n",
       "      <td>0.074074</td>\n",
       "      <td>0.112777</td>\n",
       "    </tr>\n",
       "    <tr>\n",
       "      <th>occ_ind</th>\n",
       "      <td>594</td>\n",
       "      <td>1667</td>\n",
       "      <td>0.031987</td>\n",
       "      <td>0.026995</td>\n",
       "    </tr>\n",
       "    <tr>\n",
       "      <th>occ_other</th>\n",
       "      <td>594</td>\n",
       "      <td>1667</td>\n",
       "      <td>0.042088</td>\n",
       "      <td>0.044991</td>\n",
       "    </tr>\n",
       "    <tr>\n",
       "      <th>occ_ue</th>\n",
       "      <td>594</td>\n",
       "      <td>1667</td>\n",
       "      <td>0.089226</td>\n",
       "      <td>0.079184</td>\n",
       "    </tr>\n",
       "  </tbody>\n",
       "</table>\n",
       "</div>"
      ],
      "text/plain": [
       "mpesa_user   no   yes        no       yes\n",
       "cellphone   594  1667  0.427609  0.922615\n",
       "neg         594  1667  0.540404  0.529694\n",
       "pos         594  1667  0.048822  0.072585\n",
       "ag          594  1667  0.139731  0.108578\n",
       "sick        594  1667  0.378788  0.389922\n",
       "bank_acct   594  1667  0.272727  0.712657\n",
       "mattress    594  1667  0.835017  0.686863\n",
       "sendd       594  1667  0.198653  0.615477\n",
       "recdd       594  1667  0.173401  0.518296\n",
       "sacco       594  1667  0.112795  0.226755\n",
       "merry       594  1667  0.400673  0.489502\n",
       "occ_farmer  594  1667  0.367003  0.136773\n",
       "occ_public  594  1667  0.005051  0.051590\n",
       "occ_prof    594  1667  0.132997  0.240552\n",
       "occ_help    594  1667  0.085859  0.144571\n",
       "occ_bus     594  1667  0.171717  0.162567\n",
       "occ_sales   594  1667  0.074074  0.112777\n",
       "occ_ind     594  1667  0.031987  0.026995\n",
       "occ_other   594  1667  0.042088  0.044991\n",
       "occ_ue      594  1667  0.089226  0.079184"
      ]
     },
     "execution_count": 15,
     "metadata": {},
     "output_type": "execute_result"
    }
   ],
   "source": [
    "pd.concat([count, avg], axis=1)"
   ]
  },
  {
   "cell_type": "markdown",
   "id": "d0ee7fca",
   "metadata": {},
   "source": [
    "**Having a cellphone and bank account are important variables to possess to be an M-pesa user. Most users had both, whereas only 43% of non-users have a cellhone, and 27% having a bank account. Shocks in terms of weather, ilness, any type of positive or negative were relatively similar. Another important variable is the need to send and recieve remittances, with considerably higher propotions of M-pesa users requiring the service as compared to non-users. The proportion of farmers and businesspersons in the data that are not M-pesa users are higher, but do have a significant portion of M-pesa users. Additionally, public, professional and help are the occupations which have greater proportions of M-pesa users.**"
   ]
  },
  {
   "cell_type": "code",
   "execution_count": 16,
   "id": "72353efd",
   "metadata": {},
   "outputs": [],
   "source": [
    "data = money[['totexppc', 'wkexppc', 'wealth', 'size', 'education_years',\n",
    "             'cellphone', 'neg', 'pos', 'ag', 'sick', 'bank_acct', 'mattress', \n",
    "             'sendd', 'recdd', 'sacco', 'merry', 'occ_farmer', 'occ_public', \n",
    "             'occ_prof', 'occ_help', 'occ_bus', 'occ_sales', 'occ_ind', 'occ_other', \n",
    "             'occ_ue', 'mpesa_user']]"
   ]
  },
  {
   "cell_type": "code",
   "execution_count": 17,
   "id": "6a50782b",
   "metadata": {
    "scrolled": true
   },
   "outputs": [
    {
     "data": {
      "text/html": [
       "<div>\n",
       "<style scoped>\n",
       "    .dataframe tbody tr th:only-of-type {\n",
       "        vertical-align: middle;\n",
       "    }\n",
       "\n",
       "    .dataframe tbody tr th {\n",
       "        vertical-align: top;\n",
       "    }\n",
       "\n",
       "    .dataframe thead th {\n",
       "        text-align: right;\n",
       "    }\n",
       "</style>\n",
       "<table border=\"1\" class=\"dataframe\">\n",
       "  <thead>\n",
       "    <tr style=\"text-align: right;\">\n",
       "      <th></th>\n",
       "      <th>totexppc</th>\n",
       "      <th>wkexppc</th>\n",
       "      <th>wealth</th>\n",
       "      <th>size</th>\n",
       "      <th>education_years</th>\n",
       "      <th>cellphone</th>\n",
       "      <th>neg</th>\n",
       "      <th>pos</th>\n",
       "      <th>ag</th>\n",
       "      <th>sick</th>\n",
       "      <th>...</th>\n",
       "      <th>occ_farmer</th>\n",
       "      <th>occ_public</th>\n",
       "      <th>occ_prof</th>\n",
       "      <th>occ_help</th>\n",
       "      <th>occ_bus</th>\n",
       "      <th>occ_sales</th>\n",
       "      <th>occ_ind</th>\n",
       "      <th>occ_other</th>\n",
       "      <th>occ_ue</th>\n",
       "      <th>mpesa_user</th>\n",
       "    </tr>\n",
       "  </thead>\n",
       "  <tbody>\n",
       "    <tr>\n",
       "      <th>0</th>\n",
       "      <td>150808.0</td>\n",
       "      <td>68640.0</td>\n",
       "      <td>202600.0</td>\n",
       "      <td>1.0</td>\n",
       "      <td>3.0</td>\n",
       "      <td>1</td>\n",
       "      <td>0</td>\n",
       "      <td>0</td>\n",
       "      <td>0</td>\n",
       "      <td>0</td>\n",
       "      <td>...</td>\n",
       "      <td>0</td>\n",
       "      <td>0</td>\n",
       "      <td>0</td>\n",
       "      <td>0</td>\n",
       "      <td>0</td>\n",
       "      <td>0</td>\n",
       "      <td>0</td>\n",
       "      <td>1</td>\n",
       "      <td>0</td>\n",
       "      <td>yes</td>\n",
       "    </tr>\n",
       "    <tr>\n",
       "      <th>1</th>\n",
       "      <td>33866.4</td>\n",
       "      <td>15246.4</td>\n",
       "      <td>13300.0</td>\n",
       "      <td>5.0</td>\n",
       "      <td>8.0</td>\n",
       "      <td>0</td>\n",
       "      <td>1</td>\n",
       "      <td>0</td>\n",
       "      <td>0</td>\n",
       "      <td>0</td>\n",
       "      <td>...</td>\n",
       "      <td>0</td>\n",
       "      <td>0</td>\n",
       "      <td>0</td>\n",
       "      <td>0</td>\n",
       "      <td>1</td>\n",
       "      <td>0</td>\n",
       "      <td>0</td>\n",
       "      <td>0</td>\n",
       "      <td>0</td>\n",
       "      <td>no</td>\n",
       "    </tr>\n",
       "    <tr>\n",
       "      <th>2</th>\n",
       "      <td>36072.8</td>\n",
       "      <td>15194.4</td>\n",
       "      <td>149700.0</td>\n",
       "      <td>5.0</td>\n",
       "      <td>0.0</td>\n",
       "      <td>1</td>\n",
       "      <td>0</td>\n",
       "      <td>0</td>\n",
       "      <td>0</td>\n",
       "      <td>0</td>\n",
       "      <td>...</td>\n",
       "      <td>0</td>\n",
       "      <td>0</td>\n",
       "      <td>1</td>\n",
       "      <td>0</td>\n",
       "      <td>0</td>\n",
       "      <td>0</td>\n",
       "      <td>0</td>\n",
       "      <td>0</td>\n",
       "      <td>0</td>\n",
       "      <td>yes</td>\n",
       "    </tr>\n",
       "    <tr>\n",
       "      <th>3</th>\n",
       "      <td>21632.0</td>\n",
       "      <td>9412.0</td>\n",
       "      <td>20000.0</td>\n",
       "      <td>5.0</td>\n",
       "      <td>12.0</td>\n",
       "      <td>1</td>\n",
       "      <td>1</td>\n",
       "      <td>0</td>\n",
       "      <td>0</td>\n",
       "      <td>1</td>\n",
       "      <td>...</td>\n",
       "      <td>0</td>\n",
       "      <td>0</td>\n",
       "      <td>1</td>\n",
       "      <td>0</td>\n",
       "      <td>0</td>\n",
       "      <td>0</td>\n",
       "      <td>0</td>\n",
       "      <td>0</td>\n",
       "      <td>0</td>\n",
       "      <td>yes</td>\n",
       "    </tr>\n",
       "    <tr>\n",
       "      <th>4</th>\n",
       "      <td>29848.0</td>\n",
       "      <td>15236.0</td>\n",
       "      <td>31000.0</td>\n",
       "      <td>5.0</td>\n",
       "      <td>0.0</td>\n",
       "      <td>1</td>\n",
       "      <td>1</td>\n",
       "      <td>0</td>\n",
       "      <td>0</td>\n",
       "      <td>0</td>\n",
       "      <td>...</td>\n",
       "      <td>0</td>\n",
       "      <td>0</td>\n",
       "      <td>0</td>\n",
       "      <td>0</td>\n",
       "      <td>0</td>\n",
       "      <td>1</td>\n",
       "      <td>0</td>\n",
       "      <td>0</td>\n",
       "      <td>0</td>\n",
       "      <td>yes</td>\n",
       "    </tr>\n",
       "  </tbody>\n",
       "</table>\n",
       "<p>5 rows × 26 columns</p>\n",
       "</div>"
      ],
      "text/plain": [
       "   totexppc  wkexppc    wealth  size  education_years  cellphone  neg  pos  \\\n",
       "0  150808.0  68640.0  202600.0   1.0              3.0          1    0    0   \n",
       "1   33866.4  15246.4   13300.0   5.0              8.0          0    1    0   \n",
       "2   36072.8  15194.4  149700.0   5.0              0.0          1    0    0   \n",
       "3   21632.0   9412.0   20000.0   5.0             12.0          1    1    0   \n",
       "4   29848.0  15236.0   31000.0   5.0              0.0          1    1    0   \n",
       "\n",
       "   ag  sick  ...  occ_farmer  occ_public  occ_prof  occ_help  occ_bus  \\\n",
       "0   0     0  ...           0           0         0         0        0   \n",
       "1   0     0  ...           0           0         0         0        1   \n",
       "2   0     0  ...           0           0         1         0        0   \n",
       "3   0     1  ...           0           0         1         0        0   \n",
       "4   0     0  ...           0           0         0         0        0   \n",
       "\n",
       "   occ_sales  occ_ind  occ_other  occ_ue  mpesa_user  \n",
       "0          0        0          1       0         yes  \n",
       "1          0        0          0       0          no  \n",
       "2          0        0          0       0         yes  \n",
       "3          0        0          0       0         yes  \n",
       "4          1        0          0       0         yes  \n",
       "\n",
       "[5 rows x 26 columns]"
      ]
     },
     "execution_count": 17,
     "metadata": {},
     "output_type": "execute_result"
    }
   ],
   "source": [
    "data.head()"
   ]
  },
  {
   "cell_type": "code",
   "execution_count": 18,
   "id": "31ef451f",
   "metadata": {
    "scrolled": true
   },
   "outputs": [
    {
     "data": {
      "text/plain": [
       "array(['yes', 'no'], dtype=object)"
      ]
     },
     "execution_count": 18,
     "metadata": {},
     "output_type": "execute_result"
    }
   ],
   "source": [
    "data['mpesa_user'].unique()"
   ]
  },
  {
   "cell_type": "code",
   "execution_count": 19,
   "id": "1c3d74c4",
   "metadata": {
    "scrolled": true
   },
   "outputs": [
    {
     "name": "stderr",
     "output_type": "stream",
     "text": [
      "C:\\Users\\Vivaan\\AppData\\Local\\Temp\\ipykernel_16080\\2131749002.py:1: SettingWithCopyWarning: \n",
      "A value is trying to be set on a copy of a slice from a DataFrame.\n",
      "Try using .loc[row_indexer,col_indexer] = value instead\n",
      "\n",
      "See the caveats in the documentation: https://pandas.pydata.org/pandas-docs/stable/user_guide/indexing.html#returning-a-view-versus-a-copy\n",
      "  data['mpesa_user'] = data['mpesa_user'].map({'yes': 1, 'no': 0})\n"
     ]
    }
   ],
   "source": [
    "data['mpesa_user'] = data['mpesa_user'].map({'yes': 1, 'no': 0})"
   ]
  },
  {
   "cell_type": "code",
   "execution_count": 20,
   "id": "a07c97ba",
   "metadata": {},
   "outputs": [
    {
     "data": {
      "text/plain": [
       "array([1, 0], dtype=int64)"
      ]
     },
     "execution_count": 20,
     "metadata": {},
     "output_type": "execute_result"
    }
   ],
   "source": [
    "data['mpesa_user'].unique()"
   ]
  },
  {
   "cell_type": "code",
   "execution_count": 21,
   "id": "b58970f2",
   "metadata": {},
   "outputs": [],
   "source": [
    "dep = ['totexppc', 'wkexppc', 'wealth', 'size', 'education_years','cellphone', 'neg', \n",
    "       'pos', 'ag', 'sick', 'bank_acct', 'mattress', 'sendd', 'recdd', 'sacco', 'merry', \n",
    "       'occ_farmer', 'occ_public', 'occ_prof', 'occ_help', 'occ_bus', 'occ_sales', 'occ_ind', \n",
    "       'occ_other', 'occ_ue']"
   ]
  },
  {
   "cell_type": "code",
   "execution_count": 22,
   "id": "186d9ac5",
   "metadata": {},
   "outputs": [],
   "source": [
    "from sklearn.model_selection import train_test_split\n",
    "x_train, x_test, y_train, y_test = train_test_split(data[dep], data['mpesa_user'], test_size=0.2)\n",
    "\n",
    "from sklearn import preprocessing\n",
    "scaler = preprocessing.StandardScaler().fit(x_train)\n",
    "\n",
    "x_train_scaled = scaler.transform(x_train)\n",
    "x_test_scaled = scaler.transform(x_test)"
   ]
  },
  {
   "cell_type": "code",
   "execution_count": 23,
   "id": "5bf15730",
   "metadata": {
    "scrolled": false
   },
   "outputs": [
    {
     "data": {
      "image/png": "[encoded data removed]",
      "text/plain": [
       "<Figure size 640x480 with 2 Axes>"
      ]
     },
     "metadata": {},
     "output_type": "display_data"
    }
   ],
   "source": [
    "from sklearn.metrics import confusion_matrix\n",
    "from sklearn.metrics import ConfusionMatrixDisplay\n",
    "from sklearn.linear_model import LogisticRegression\n",
    "\n",
    "scores = []\n",
    "false_pos = []\n",
    "recall = []\n",
    "\n",
    "logit = LogisticRegression()\n",
    "logit.fit(x_train_scaled, y_train)\n",
    "l_score = logit.score(x_test_scaled, y_test)\n",
    "scores.append(l_score)\n",
    "y_pred=logit.predict(x_test_scaled)\n",
    "cm = confusion_matrix(y_test, logit.predict(x_test_scaled))\n",
    "disp = ConfusionMatrixDisplay(cm, display_labels=None)\n",
    "disp.plot()\n",
    "plt.show()"
   ]
  },
  {
   "cell_type": "code",
   "execution_count": 24,
   "id": "0f5e7d66",
   "metadata": {},
   "outputs": [],
   "source": [
    "false_pos_rate = cm[0,1]/cm[0].sum()\n",
    "false_pos.append(false_pos_rate)\n",
    "\n",
    "recall_rate = cm[1,1]/cm[1].sum()\n",
    "recall.append(recall_rate)\n"
   ]
  },
  {
   "cell_type": "code",
   "execution_count": 25,
   "id": "8759cfbc",
   "metadata": {},
   "outputs": [
    {
     "name": "stdout",
     "output_type": "stream",
     "text": [
      "[0.8498896247240618]\n",
      "[0.3644067796610169]\n",
      "[0.9253731343283582]\n"
     ]
    }
   ],
   "source": [
    "print(scores)\n",
    "print(false_pos)\n",
    "print(recall)"
   ]
  },
  {
   "cell_type": "code",
   "execution_count": 26,
   "id": "2f4bc800",
   "metadata": {},
   "outputs": [
    {
     "data": {
      "text/plain": [
       "cellphone    0.867611\n",
       "recdd        0.653522\n",
       "sendd        0.556161\n",
       "bank_acct    0.441500\n",
       "mattress    -0.358128\n",
       "dtype: float64"
      ]
     },
     "execution_count": 26,
     "metadata": {},
     "output_type": "execute_result"
    }
   ],
   "source": [
    "logit_features = pd.Series(logit.coef_.tolist()[0], index = list(data[dep]))\n",
    "sorted_logit_features = logit_features.sort_values(ascending = False, key = abs)\n",
    "sorted_logit_features[0:5]"
   ]
  },
  {
   "cell_type": "code",
   "execution_count": 27,
   "id": "545abce4",
   "metadata": {
    "scrolled": true
   },
   "outputs": [
    {
     "name": "stdout",
     "output_type": "stream",
     "text": [
      "Accuracy: 0.8498896247240618\n",
      "Precision: 0.8781869688385269\n",
      "Recall: 0.9253731343283582\n"
     ]
    }
   ],
   "source": [
    "from sklearn import metrics \n",
    "print(\"Accuracy:\",metrics.accuracy_score(y_test, y_pred)) \n",
    "\n",
    "print(\"Precision:\",metrics.precision_score(y_test, y_pred)) \n",
    "\n",
    "print(\"Recall:\",metrics.recall_score(y_test, y_pred)) "
   ]
  },
  {
   "cell_type": "code",
   "execution_count": 28,
   "id": "5a65a8b9",
   "metadata": {},
   "outputs": [],
   "source": [
    "from sklearn.metrics import roc_curve, roc_auc_score"
   ]
  },
  {
   "cell_type": "code",
   "execution_count": 29,
   "id": "7247ce3c",
   "metadata": {},
   "outputs": [
    {
     "data": {
      "text/plain": [
       "0.8741209208196307"
      ]
     },
     "execution_count": 29,
     "metadata": {},
     "output_type": "execute_result"
    },
    {
     "data": {
      "image/png": "[encoded data removed]",
      "text/plain": [
       "<Figure size 640x480 with 1 Axes>"
      ]
     },
     "metadata": {},
     "output_type": "display_data"
    }
   ],
   "source": [
    "predictions = logit.predict_proba(x_test_scaled)\n",
    "predictions\n",
    "predictions[:,1]\n",
    "\n",
    "fpr,tpr,threshold = roc_curve(y_test, predictions[:,1])\n",
    "\n",
    "plt.plot(fpr,tpr)\n",
    "plt.plot(fpr,tpr, fpr, fpr)\n",
    "plt.xlabel(\"False Positive Rate\")\n",
    "plt.ylabel(\"True Positive Rate\")\n",
    "\n",
    "auc_l = roc_auc_score(y_test, predictions[:,1])\n",
    "auc_l"
   ]
  },
  {
   "cell_type": "code",
   "execution_count": 30,
   "id": "557a4f9f",
   "metadata": {},
   "outputs": [
    {
     "data": {
      "text/plain": [
       "0.7505518763796909"
      ]
     },
     "execution_count": 30,
     "metadata": {},
     "output_type": "execute_result"
    }
   ],
   "source": [
    "from sklearn.tree import DecisionTreeClassifier\n",
    "tree = DecisionTreeClassifier()\n",
    "tree.fit(x_train_scaled, y_train)\n",
    "tree_score = tree.score(x_test_scaled, y_test)\n",
    "tree_score"
   ]
  },
  {
   "cell_type": "code",
   "execution_count": 31,
   "id": "595976c5",
   "metadata": {
    "scrolled": true
   },
   "outputs": [
    {
     "data": {
      "text/plain": [
       "0.6831267391854288"
      ]
     },
     "execution_count": 31,
     "metadata": {},
     "output_type": "execute_result"
    },
    {
     "data": {
      "image/png": "[encoded data removed]",
      "text/plain": [
       "<Figure size 640x480 with 1 Axes>"
      ]
     },
     "metadata": {},
     "output_type": "display_data"
    }
   ],
   "source": [
    "from sklearn.metrics import roc_curve, roc_auc_score\n",
    "predictions = tree.predict_proba(x_test_scaled)\n",
    "predictions\n",
    "predictions[:,1]\n",
    "\n",
    "fpr,tpr,threshold = roc_curve(y_test, predictions[:,1])\n",
    "\n",
    "plt.plot(fpr,tpr)\n",
    "\n",
    "plt.plot(fpr,tpr, fpr, fpr)\n",
    "plt.xlabel(\"False Positive Rate\")\n",
    "plt.ylabel(\"True Positive Rate\")\n",
    "\n",
    "auc_t = roc_auc_score(y_test, predictions[:,1])\n",
    "auc_t"
   ]
  },
  {
   "cell_type": "code",
   "execution_count": 32,
   "id": "fa8bef5b",
   "metadata": {
    "scrolled": false
   },
   "outputs": [
    {
     "data": {
      "text/plain": [
       "cellphone    0.277711\n",
       "totexppc     0.125588\n",
       "wealth       0.120821\n",
       "wkexppc      0.097729\n",
       "size         0.070028\n",
       "dtype: float64"
      ]
     },
     "execution_count": 32,
     "metadata": {},
     "output_type": "execute_result"
    }
   ],
   "source": [
    "tree_features = pd.Series(tree.feature_importances_.tolist(), index = list(data[dep]))\n",
    "sorted_tree_features = tree_features.sort_values(ascending = False, key = abs)\n",
    "sorted_tree_features[0:5]"
   ]
  },
  {
   "cell_type": "code",
   "execution_count": 33,
   "id": "878a5962",
   "metadata": {},
   "outputs": [
    {
     "data": {
      "text/plain": [
       "0.8565121412803532"
      ]
     },
     "execution_count": 33,
     "metadata": {},
     "output_type": "execute_result"
    }
   ],
   "source": [
    "from sklearn.ensemble import RandomForestClassifier\n",
    "forest=RandomForestClassifier()\n",
    "forest.fit(x_train_scaled, y_train)\n",
    "forest_score = forest.score(x_test_scaled, y_test)\n",
    "forest_score"
   ]
  },
  {
   "cell_type": "code",
   "execution_count": 34,
   "id": "f574c0cc",
   "metadata": {},
   "outputs": [
    {
     "data": {
      "text/plain": [
       "0.8695041740450291"
      ]
     },
     "execution_count": 34,
     "metadata": {},
     "output_type": "execute_result"
    },
    {
     "data": {
      "image/png": "[encoded data removed]",
      "text/plain": [
       "<Figure size 640x480 with 1 Axes>"
      ]
     },
     "metadata": {},
     "output_type": "display_data"
    }
   ],
   "source": [
    "predictions = forest.predict_proba(x_test_scaled)\n",
    "# Plotting the ROC curve:\n",
    "fpr,tpr,threshold = roc_curve(y_test, predictions[:,1])\n",
    "plt.plot(fpr,tpr, fpr, fpr)\n",
    "plt.xlabel(\"False Positive Rate\")\n",
    "plt.ylabel(\"True Positive Rate\")\n",
    "\n",
    "auc_f = roc_auc_score(y_test, predictions[:,1])\n",
    "auc_f"
   ]
  },
  {
   "cell_type": "code",
   "execution_count": 35,
   "id": "3b26016d",
   "metadata": {
    "scrolled": true
   },
   "outputs": [
    {
     "data": {
      "text/plain": [
       "cellphone    0.161641\n",
       "wealth       0.130038\n",
       "totexppc     0.124071\n",
       "wkexppc      0.104477\n",
       "size         0.065826\n",
       "dtype: float64"
      ]
     },
     "execution_count": 35,
     "metadata": {},
     "output_type": "execute_result"
    }
   ],
   "source": [
    "forest_features = pd.Series(forest.feature_importances_.tolist(), index = list(data[dep]))\n",
    "sorted_forest_features = forest_features.sort_values(ascending = False, key = abs)\n",
    "sorted_forest_features[0:5]"
   ]
  },
  {
   "cell_type": "markdown",
   "id": "194243ad",
   "metadata": {},
   "source": [
    "**Comparing Accuracy of the measures**"
   ]
  },
  {
   "cell_type": "code",
   "execution_count": 36,
   "id": "b058e793",
   "metadata": {
    "scrolled": false
   },
   "outputs": [
    {
     "name": "stdout",
     "output_type": "stream",
     "text": [
      "0.8498896247240618\n",
      "0.7505518763796909\n",
      "0.8565121412803532\n"
     ]
    }
   ],
   "source": [
    "print(l_score)\n",
    "print(tree_score)\n",
    "print(forest_score)"
   ]
  },
  {
   "cell_type": "markdown",
   "id": "734959d0",
   "metadata": {},
   "source": [
    "Accuracy measure to portion of oberservations that are classified correctly by the model. As per this measure, it seems that logistic regressions works best, however, random forest is very close. "
   ]
  },
  {
   "cell_type": "markdown",
   "id": "189476f5",
   "metadata": {},
   "source": [
    "**Comparing AUC**"
   ]
  },
  {
   "cell_type": "code",
   "execution_count": 37,
   "id": "8d8785c7",
   "metadata": {},
   "outputs": [
    {
     "name": "stdout",
     "output_type": "stream",
     "text": [
      "0.8741209208196307\n",
      "0.6831267391854288\n",
      "0.8695041740450291\n"
     ]
    }
   ],
   "source": [
    "print(auc_l)\n",
    "print(auc_t)\n",
    "print(auc_f)"
   ]
  },
  {
   "cell_type": "markdown",
   "id": "9c5c9233",
   "metadata": {},
   "source": [
    "AUC measures the ability of the classifier to successfully distinguish between the two classes, in this case, users and non-users. Again, logistic regression has a higher AUC with forest having a near similar measure. This implies that logistic regression is the best model (per the two criteria), and the random forest model can be considered as good. "
   ]
  },
  {
   "cell_type": "markdown",
   "id": "3f9fca04",
   "metadata": {},
   "source": [
    "**Top 3 Predictors**"
   ]
  },
  {
   "cell_type": "code",
   "execution_count": 38,
   "id": "75258b92",
   "metadata": {},
   "outputs": [
    {
     "data": {
      "text/plain": [
       "cellphone    0.867611\n",
       "recdd        0.653522\n",
       "sendd        0.556161\n",
       "bank_acct    0.441500\n",
       "mattress    -0.358128\n",
       "dtype: float64"
      ]
     },
     "execution_count": 38,
     "metadata": {},
     "output_type": "execute_result"
    }
   ],
   "source": [
    "sorted_logit_features[0:5]"
   ]
  },
  {
   "cell_type": "code",
   "execution_count": 39,
   "id": "129a4eba",
   "metadata": {},
   "outputs": [
    {
     "data": {
      "text/plain": [
       "cellphone    0.161641\n",
       "wealth       0.130038\n",
       "totexppc     0.124071\n",
       "wkexppc      0.104477\n",
       "size         0.065826\n",
       "dtype: float64"
      ]
     },
     "execution_count": 39,
     "metadata": {},
     "output_type": "execute_result"
    }
   ],
   "source": [
    "sorted_forest_features[0:5]"
   ]
  },
  {
   "cell_type": "markdown",
   "id": "32852a77",
   "metadata": {},
   "source": [
    "The logistic regression uses Cellphone, and whether or not the individual sends remittances or not as its top3 predictors. This makes sense as the app is most accessible to people who have a cellphone and require to transfer or recieve money. "
   ]
  },
  {
   "cell_type": "code",
   "execution_count": 40,
   "id": "8a984f6b",
   "metadata": {},
   "outputs": [],
   "source": [
    "from sklearn.neighbors import KNeighborsClassifier\n",
    "from sklearn.model_selection import cross_val_score\n",
    "\n",
    "dataframe_scaled = scaler.transform(data[dep])"
   ]
  },
  {
   "cell_type": "code",
   "execution_count": 46,
   "id": "195d8c57",
   "metadata": {},
   "outputs": [],
   "source": [
    "dic = {}\n",
    "for k in range(1, 11):\n",
    "    KNN=KNeighborsClassifier(n_neighbors = k)\n",
    "    KNN.fit(x_test_scaled, y_test)\n",
    "    \n",
    "    cross_val_scores = cross_val_score(KNN, dataframe_scaled, data[\"mpesa_user\"])\n",
    "    cross_val_mean = cross_val_scores.mean()\n",
    "    dic[k] = cross_val_mean\n",
    "\n",
    "from warnings import simplefilter\n",
    "# ignore all future warnings\n",
    "simplefilter(action='ignore', category=FutureWarning)"
   ]
  },
  {
   "cell_type": "code",
   "execution_count": 42,
   "id": "8d62eb74",
   "metadata": {},
   "outputs": [],
   "source": [
    "cross_val_means = pd.Series(dic, index = list(range(1,11)))\n",
    "sorted_cross_val_means = cross_val_means.sort_values(ascending = False)"
   ]
  },
  {
   "cell_type": "code",
   "execution_count": 43,
   "id": "f4692dca",
   "metadata": {
    "scrolled": false
   },
   "outputs": [
    {
     "data": {
      "text/plain": [
       "{'n_neighbors': 9}"
      ]
     },
     "execution_count": 43,
     "metadata": {},
     "output_type": "execute_result"
    }
   ],
   "source": [
    "from sklearn.model_selection import GridSearchCV\n",
    "\n",
    "n_neigh_dic={\"n_neighbors\":np.arange(1, 11)}\n",
    "\n",
    "GS = GridSearchCV(KNeighborsClassifier(), n_neigh_dic)\n",
    "GS.fit(dataframe_scaled, data[\"mpesa_user\"])\n",
    "GS.best_params_\n",
    "\n"
   ]
  },
  {
   "cell_type": "markdown",
   "id": "86ddd4c0",
   "metadata": {},
   "source": [
    "**Optimal K = 9**"
   ]
  },
  {
   "cell_type": "code",
   "execution_count": 44,
   "id": "a062d4aa",
   "metadata": {},
   "outputs": [
    {
     "data": {
      "text/plain": [
       "0.82560706401766"
      ]
     },
     "execution_count": 44,
     "metadata": {},
     "output_type": "execute_result"
    }
   ],
   "source": [
    "# Now to assess the accuracy of the classifier by building it:\n",
    "KNN = KNeighborsClassifier(n_neighbors = GS.best_params_[\"n_neighbors\"])\n",
    "KNN.fit(x_train_scaled, y_train)\n",
    "score = KNN.score(x_test_scaled, y_test)\n",
    "score"
   ]
  },
  {
   "cell_type": "code",
   "execution_count": 45,
   "id": "87c580f3",
   "metadata": {},
   "outputs": [
    {
     "data": {
      "image/png": "[encoded data removed]",
      "text/plain": [
       "<Figure size 640x480 with 2 Axes>"
      ]
     },
     "metadata": {},
     "output_type": "display_data"
    },
    {
     "data": {
      "text/plain": [
       "0.8091449532001012"
      ]
     },
     "execution_count": 45,
     "metadata": {},
     "output_type": "execute_result"
    },
    {
     "data": {
      "image/png": "[encoded data removed]",
      "text/plain": [
       "<Figure size 640x480 with 1 Axes>"
      ]
     },
     "metadata": {},
     "output_type": "display_data"
    }
   ],
   "source": [
    "from sklearn.metrics import confusion_matrix\n",
    "from sklearn.metrics import ConfusionMatrixDisplay\n",
    "\n",
    "cm = confusion_matrix(y_test, KNN.predict(x_test_scaled))\n",
    "disp = ConfusionMatrixDisplay(cm, display_labels = None)\n",
    "disp.plot()\n",
    "plt.show()\n",
    "\n",
    "\n",
    "predictions = KNN.predict_proba(x_test_scaled)\n",
    "# Plotting the ROC curve:\n",
    "from sklearn.metrics import roc_curve, roc_auc_score\n",
    "fpr,tpr,threshold = roc_curve(y_test, predictions[:,1])\n",
    "plt.plot(fpr,tpr, fpr, fpr)\n",
    "plt.xlabel(\"False Positive Rate\")\n",
    "plt.ylabel(\"True Positive Rate\")\n",
    "\n",
    "auc = roc_auc_score(y_test, predictions[:,1])\n",
    "auc\n"
   ]
  },
  {
   "cell_type": "markdown",
   "id": "412d48c3",
   "metadata": {},
   "source": [
    "**The optimal KNN classifiers outpersoms the Decision Tree model but does not outperform both the logistic and random forest models. Hence, logistic regression is still the best model**"
   ]
  },
  {
   "cell_type": "markdown",
   "id": "cc37904e",
   "metadata": {},
   "source": [
    "## Conclusion"
   ]
  },
  {
   "cell_type": "markdown",
   "id": "185716ca",
   "metadata": {},
   "source": [
    "To increase use of M-pesa users:\n",
    "- Increase cell phone production and make it more accessible.\n",
    "- Improve bank facilities and ease to open an account.\n",
    "- Increase in consumption is also a criteria, which is a more systemic factor. \n",
    "- Market the benfits to individuals who are farmers, businesspersons, or work in the public sector. "
   ]
  }
 ],
 "metadata": {
  "kernelspec": {
   "display_name": "Python 3 (ipykernel)",
   "language": "python",
   "name": "python3"
  },
  "language_info": {
   "codemirror_mode": {
    "name": "ipython",
    "version": 3
   },
   "file_extension": ".py",
   "mimetype": "text/x-python",
   "name": "python",
   "nbconvert_exporter": "python",
   "pygments_lexer": "ipython3",
   "version": "3.9.13"
  }
 },
 "nbformat": 4,
 "nbformat_minor": 5
}
